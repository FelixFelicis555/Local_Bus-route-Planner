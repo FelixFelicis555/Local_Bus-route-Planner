{
  "nbformat": 4,
  "nbformat_minor": 0,
  "metadata": {
    "colab": {
      "provenance": [],
      "collapsed_sections": []
    },
    "kernelspec": {
      "name": "python3",
      "display_name": "Python 3"
    },
    "language_info": {
      "name": "python"
    }
  },
  "cells": [
    {
      "cell_type": "code",
      "source": [
        "from google.colab import files"
      ],
      "metadata": {
        "id": "7HrewDuJZ6K9"
      },
      "execution_count": 1,
      "outputs": []
    },
    {
      "cell_type": "code",
      "source": [
        "!cp /content/drive/MyDrive/DSA-Project/MinHeap.py /content\n"
      ],
      "metadata": {
        "id": "j94Zx6R4aZhx"
      },
      "execution_count": 24,
      "outputs": []
    },
    {
      "cell_type": "code",
      "source": [
        "import MinHeap"
      ],
      "metadata": {
        "id": "2GQxHxeJb8iD"
      },
      "execution_count": 25,
      "outputs": []
    },
    {
      "cell_type": "code",
      "execution_count": 26,
      "metadata": {
        "id": "uWHRVFB1l2Og"
      },
      "outputs": [],
      "source": [
        "import math\n",
        "from MinHeap import MinHeap\n",
        "c2=0\n",
        "class Vertex:\n",
        "\tdef __init__(self,name):\n",
        "\t\tself.name=name\n",
        "\t\tself.neighbours={}\n",
        "\t\tself.ds=math.inf\n",
        "\t\tself.parent=None\n",
        "\t\tself.busFrom= None\n",
        "\t\tself.MHListIndex=None\n",
        "\t\tself.bus={'EXPRESS':False,'SERVICE':False,'CITY1':False, 'CITY2':False, 'CITY3': False, 'CITY4': False, 'CITY5': False, 'CITY6': False}\n",
        "\t\tself.ts=math.inf\n",
        "\t\tself.cs=math.inf\n",
        "\n",
        "\tdef Addneighbour(self, name, weight=0):\n",
        "\t\tself.neighbours[name]=weight\n",
        "\n",
        "\tdef __str__(self):\n",
        "\t\treturn str(self.name) + ' neighbours are ' + str([x for x in self.neighbours.keys()])\n",
        "\n",
        "\tdef NeighbourWeight(self, nbr):\n",
        "\t\tif nbr in self.neighbours:\n",
        "\t\t\treturn self.neighbours[nbr]\n",
        "\n",
        "\tdef DistFromSource(self):\n",
        "\t\treturn self.ds\n",
        "\n",
        "\tdef SetBus(self,bustype):\n",
        "\t\tself.bus[bustype]=True\n",
        "\n",
        "\tdef TimeFromSource(self):\n",
        "\t\treturn self.ts\n",
        "\n",
        "\tdef __lt__(self,other):\n",
        "\t\tglobal c2\n",
        "\t\tif c2==0:\n",
        "\t\t\tif self.ds<other.ds:\n",
        "\t\t\t\treturn True\n",
        "\t\t\telif self.ds>other.ds:\n",
        "\t\t\t\treturn False\n",
        "\t\telif c2==1:\n",
        "\t\t\tif self.ts<other.ts:\n",
        "\t\t\t\treturn True\n",
        "\t\t\telif self.ts>other.ts:\n",
        "\t\t\t\treturn False\n",
        "\t\telif c2==2:\n",
        "\t\t\tif self.cs<other.cs:\n",
        "\t\t\t\treturn True\n",
        "\t\t\telif self.cs>other.cs:\n",
        "\t\t\t\treturn False"
      ]
    },
    {
      "cell_type": "code",
      "source": [
        "class BUS:\n",
        "\n",
        "\tdef __init__(self,name):\n",
        "\t\tself.name=name\n",
        "\t\tif name=='EXPRESS':\n",
        "\t\t\tself.speed=75\n",
        "\t\t\tself.rate=1.5\n",
        "\t\telif name=='CITY1' or name=='CITY2' or name=='CITY3' or name=='CITY4' or name=='CITY5' or name=='CITY6' :\n",
        "\t\t\tself.speed=30\n",
        "\t\t\tself.rate=0.56\n",
        "\t\telif name=='SERVICE':\n",
        "\t\t\tself.speed=40\n",
        "\t\t\tself.rate=1"
      ],
      "metadata": {
        "id": "Ad_XmJpbrsXU"
      },
      "execution_count": 37,
      "outputs": []
    },
    {
      "cell_type": "code",
      "source": [
        "class Graph:\n",
        "\n",
        "\tdef __init__(self):\n",
        "\t\tself.nv=0\n",
        "\t\tself.Vertices={}\n",
        "\n",
        "\tdef __iter__(self):\n",
        "\t\treturn iter(self.Vertices.values())\n",
        "\n",
        "\tdef AddVertex(self,name):\n",
        "\t\tself.nv=self.nv+1\n",
        "\t\tNewVertex=Vertex(name)\n",
        "\t\tself.Vertices[name]=NewVertex\n",
        "\t\treturn NewVertex\n",
        "\n",
        "\tdef AddEdge(self,Head,Tail,weight):\n",
        "\t\tif Head not in self.Vertices:\n",
        "\t\t\tself.AddVertex(Head)\n",
        "\t\tif Tail not in self.Vertices:\n",
        "\t\t\tself.AddVertex(Tail)\n",
        "\t\tself.Vertices[Head].Addneighbour(Tail,weight)\n",
        "\t\tself.Vertices[Tail].Addneighbour(Head,weight)\n",
        "\n",
        "\tdef GetVertex(self,name):\n",
        "\t\tif name in self.Vertices:\n",
        "\t\t\treturn self.Vertices[name]\n",
        "\n",
        "\tdef UpdateBusInfo(self,bustype,l):\n",
        "\t\tfor i in range(0,len(l)):\n",
        "\t\t\tself.GetVertex(l[i]).SetBus(bustype)\n",
        "\n",
        "\tdef GetVertices(self):\n",
        "\t\treturn self.Vertices.keys()\n",
        "\n",
        "\n",
        "  "
      ],
      "metadata": {
        "id": "ncBF1INesdiX"
      },
      "execution_count": 29,
      "outputs": []
    },
    {
      "cell_type": "code",
      "source": [
        "def DijkstrasSP(G,s,d):\n",
        "  R=[]\n",
        "  s.ds=0\n",
        "  MH=MinHeap()\n",
        "  for u in G.Vertices:\n",
        "    MH.Insert(G.Vertices[u])\n",
        "  MH.BuildHeap()\n",
        "  while not MH.isEmpty():\n",
        "    U=MH.ExtractMin()\n",
        "    R.append(U.name)\n",
        "    for v in U.neighbours:\n",
        "      V=G.GetVertex(v)\n",
        "      if V==s:\n",
        "         continue\n",
        "      if V.DistFromSource()>=U.DistFromSource() +U.NeighbourWeight(v):\n",
        "        V.ds=U.ds+U.NeighbourWeight(v)\n",
        "        MH.UpdatePriority(V)\n",
        "        V.parent=U.name\n",
        "        \n"
      ],
      "metadata": {
        "id": "ShTL538mVnCD"
      },
      "execution_count": 30,
      "outputs": []
    },
    {
      "cell_type": "code",
      "source": [
        "def DijkstrasST(G,s,d):\n",
        "\ts.ts=0\n",
        "\ts.ds=0\n",
        "\tMH=MinHeap()\n",
        "\tfor u in G.Vertices:\n",
        "\t\tMH.Insert(G.Vertices[u])\n",
        "\tMH.BuildHeap()\n",
        "\twhile not MH.isEmpty():\n",
        "\t\tU=MH.ExtractMin()\n",
        "\t\tfor v in U.neighbours:\n",
        "\t\t\tV=G.GetVertex(v)\n",
        "\t\t\tif V==s:\n",
        "\t\t\t\tcontinue\n",
        "\t\t\tif U.bus['EXPRESS'] and V.bus['EXPRESS']:\n",
        "\t\t\t\tbus=BUS('EXPRESS')\n",
        "\t\t\telif U.bus['SERVICE'] and V.bus['SERVICE']:\n",
        "\t\t\t\tbus=BUS('SERVICE')\n",
        "\t\t\telif U.bus['CITY1'] and V.bus['CITY1']:\n",
        "\t\t\t\tbus=BUS('CITY1')\n",
        "\t\t\telif U.bus['CITY2'] and V.bus['CITY2']:\n",
        "\t\t\t\tbus=BUS('CITY2')\n",
        "\t\t\telif U.bus['CITY3'] and V.bus['CITY3']:\n",
        "\t\t\t\tbus=BUS('CITY3')\n",
        "\t\t\telif U.bus['CITY4'] and V.bus['CITY4']:\n",
        "\t\t\t\tbus=BUS('CITY4')\n",
        "\t\t\telif U.bus['CITY5'] and V.bus['CITY5']:\n",
        "\t\t\t\tbus=BUS('CITY5')\n",
        "\t\t\telif U.bus['CITY6'] and V.bus['CITY6']:\n",
        "\t\t\t\tbus=BUS('CITY6')\n",
        "\t\t\tif bus==None:\n",
        "\t\t\t\tcontinue\n",
        "\t\t\tif (V.ts)>=(U.ts+(U.NeighbourWeight(v)/bus.speed)):\n",
        "\t\t\t\tV.ts=U.ts+(U.NeighbourWeight(v)/bus.speed)\n",
        "\t\t\t\tV.ds=U.ds+U.NeighbourWeight(v)\n",
        "\t\t\t\tMH.UpdatePriority(V)\n",
        "\t\t\t\tV.parent=U.name\n",
        "\t\t\t\tV.busFrom=bus.name\n",
        "\t\t\tbus=None\n"
      ],
      "metadata": {
        "id": "U-gB2Q2-WsIa"
      },
      "execution_count": 39,
      "outputs": []
    },
    {
      "cell_type": "code",
      "source": [
        "def DijkstrasCP(G,s,d):\n",
        "\ts.ts=0\n",
        "\ts.ds=0\n",
        "\ts.cs=0\n",
        "\tMH=MinHeap()\n",
        "\tfor u in G.Vertices:\n",
        "\t\tMH.Insert(G.Vertices[u])\n",
        "\tMH.BuildHeap()\n",
        "\twhile not MH.isEmpty():\n",
        "\t\tU=MH.ExtractMin()\n",
        "\t\tfor v in U.neighbours:\n",
        "\t\t\tV=G.GetVertex(v)\n",
        "\t\t\tif V==s:\n",
        "\t\t\t\tcontinue\n",
        "\t\t\tif U.bus['CITY1'] and V.bus['CITY1']:\n",
        "\t\t\t\tbus=BUS('CITY1')\n",
        "\t\t\telif U.bus['CITY2'] and V.bus['CITY2']:\n",
        "\t\t\t\tbus=BUS('CITY2')\n",
        "\t\t\telif U.bus['CITY3'] and V.bus['CITY3']:\n",
        "\t\t\t\tbus=BUS('CITY3')\n",
        "\t\t\telif U.bus['CITY4'] and V.bus['CITY4']:\n",
        "\t\t\t\tbus=BUS('CITY4')\n",
        "\t\t\telif U.bus['CITY5'] and V.bus['CITY5']:\n",
        "\t\t\t\tbus=BUS('CITY5')\n",
        "\t\t\telif U.bus['CITY6'] and V.bus['CITY6']:\n",
        "\t\t\t\tbus=BUS('CITY6')\n",
        "\t\t\telif U.bus['SERVICE'] and V.bus['SERVICE']:\n",
        "\t\t\t\tbus=BUS('SERVICE')\n",
        "\t\t\telif U.bus['EXPRESS'] and V.bus['EXPRESS']:\n",
        "\t\t\t\tbus=BUS('EXPRESS')\n",
        "\t\t\tif bus==None:\n",
        "\t\t\t\tcontinue\n",
        "\t\t\tif (V.cs>=U.cs+(U.NeighbourWeight(v)*bus.rate)):\n",
        "\t\t\t\tV.cs=U.cs+(U.NeighbourWeight(v)*bus.rate)\n",
        "\t\t\t\tV.ds=U.ds+U.NeighbourWeight(v)\n",
        "\t\t\t\tMH.UpdatePriority(V)\n",
        "\t\t\t\tV.parent=U.name\n",
        "\t\t\t\tV.busFrom=bus.name\n",
        "\t\t\tbus=None"
      ],
      "metadata": {
        "id": "B17VqxEtWzkO"
      },
      "execution_count": 40,
      "outputs": []
    },
    {
      "cell_type": "code",
      "source": [
        "def PrintPath(G,s,d):\n",
        "\tif G.GetVertex(d).parent!=None:\n",
        "\t\tPrintPath(G,s,G.GetVertex(d).parent)\n",
        "\tif d==s:\n",
        "\t\tprint(G.GetVertex(d).name,end=' ')\n",
        "\telse:\n",
        "\t\tprint(' ---',G.GetVertex(d).busFrom,'----->',G.GetVertex(d).name,end=' ')\n"
      ],
      "metadata": {
        "id": "WIHv3zKHW-4M"
      },
      "execution_count": 41,
      "outputs": []
    },
    {
      "cell_type": "code",
      "source": [],
      "metadata": {
        "id": "hhy2nM9IXLyt"
      },
      "execution_count": null,
      "outputs": []
    },
    {
      "cell_type": "code",
      "source": [
        "def main():\n",
        "\tG=Graph()\n",
        "\tprint(\"Updating contents of map\")\n",
        "\tew=open(\"/content/sample_data/EdgeWeight.txt\", \"r\")\n",
        "\twhile True:\n",
        "\t\tf=ew.readline()\n",
        "\t\tl=f.rstrip('\\n').split()\n",
        "\t\tif l == []:\n",
        "\t\t\tbreak\n",
        "\t\tG.AddEdge(l[0],l[1],float(l[2]))\n",
        "\tfh=open(\"/content/sample_data/BUS.TXT\",\"r\")\n",
        "\tf=fh.readline()\n",
        "\tl=f.rstrip('\\n').split()\n",
        "\tbt=l.pop(0)\n",
        "\tG.UpdateBusInfo(bt,l)\n",
        "\tfor f in fh:\n",
        "\t\tl=f.rstrip('\\n').split()\n",
        "\t\tbt=l.pop(0)\n",
        "\t\tG.UpdateBusInfo(bt,l)\n",
        "\tprint(\"Map formed succesfully\\n\")\n",
        "\n",
        "\tprint(\"BUS Types: \\n1.EXPRESS BUS\\n2.SERVICE BUS\\n3.CITY BUS\\n\")\n",
        "\tprint(\"\\tCITY1: 45\\n\\tCITY2: 15\\n\\tCITY3: 3\\n\\tCITY4: 7\\n\\tCITY5: 31\\n\\tCITY6: 51\\n\")\n",
        "\tprint(\"Enter the source (From MAP): \")\n",
        "\ts=input()\n",
        "\twhile s not in G.Vertices:\n",
        "\t\tprint(\"Ooops, Its seems you have entered an invalid choice.Please enter a valid choice\")\n",
        "\t\ts=input()\n",
        "\tprint(\"Enter the destination (From MAP): \")\n",
        "\td=input()\n",
        "\twhile d not in G.Vertices:\n",
        "\t\tprint(\"Ooops, Its seems you have entered an invalid choice.Please enter a valid choice\")\n",
        "\t\td=input()\n",
        "\tprint(\"Enter your choice\")\n",
        "\tprint(\"How do you want to go?\")\n",
        "\tprint(\"1.own Transport-Car,Motorcycle\")\n",
        "\tprint(\"2.public Transport-Bus\")\n",
        "\tc1=int(input())\n",
        "\twhile c1!=1 and c1!=2:\n",
        "\t\tprint(\"Ooops, Its seems you have entered an invalid choice.Please enter a valid choice\")\n",
        "\t\tc1=int(input())\n",
        "\tif c1==1:\n",
        "\t\tDijkstrasSP(G,G.GetVertex(s),G.GetVertex(d))\n",
        "\t\tprint(\"your path from souce to destination is\")\n",
        "\t\tPrintPath(G,s,d)\n",
        "\t\tprint(G.GetVertex(d).ds)\n",
        "\telif c1==2:\n",
        "\t\tprint(\"Choose your priority\")\n",
        "\t\tprint(\"1.Travel in Shortest time path\")\n",
        "\t\tprint(\"2.Travel in Cheapest Price path\")\n",
        "\t\tglobal c2\n",
        "\t\tc2=int(input())\n",
        "\t\twhile c2!=1 and c2!=2 and c2!=3:\n",
        "\t\t\tprint(\"Ooops, Its seems you have entered an invalid choice.Please enter a valid choice\")\n",
        "\t\t\tc2=int(input())\n",
        "\t\tif c2==1:\n",
        "\t\t\tDijkstrasST(G,G.GetVertex(s),G.GetVertex(d))\n",
        "\t\t\tprint(\"your path from souce to destination is\")\n",
        "\t\t\tPrintPath(G,s,d)\n",
        "\t\t\tprint(\"\")\n",
        "\t\t\tprint(\"Time taken: \",round(G.GetVertex(d).ts * 60, 2), \"minutes\")\n",
        "\t\telif c2==2:\n",
        "\t\t\tDijkstrasCP(G,G.GetVertex(s),G.GetVertex(d))\n",
        "\t\t\tprint(\"your path from souce to destination is\")\n",
        "\t\t\tPrintPath(G,s,d)\n",
        "\t\t\tprint(\"\")\n",
        "\t\t\tprint(\"Price: \", \"Rs.\", round(G.GetVertex(d).cs, 2))\n"
      ],
      "metadata": {
        "id": "vh-mGhu5XCD6"
      },
      "execution_count": 42,
      "outputs": []
    },
    {
      "cell_type": "code",
      "source": [
        "main()"
      ],
      "metadata": {
        "colab": {
          "base_uri": "https://localhost:8080/"
        },
        "id": "GIzZwwJ0Z3Bo",
        "outputId": "7968d620-b8bd-4f7f-8985-37ebfd6fc407"
      },
      "execution_count": 43,
      "outputs": [
        {
          "output_type": "stream",
          "name": "stdout",
          "text": [
            "Updating contents of map\n",
            "Map formed succesfully\n",
            "\n",
            "BUS Types: \n",
            "1.EXPRESS BUS\n",
            "2.SERVICE BUS\n",
            "3.CITY BUS\n",
            "\n",
            "\tCITY1: 45\n",
            "\tCITY2: 15\n",
            "\tCITY3: 3\n",
            "\tCITY4: 7\n",
            "\tCITY5: 31\n",
            "\tCITY6: 51\n",
            "\n",
            "Enter the source (From MAP): \n",
            "KOTTARA\n",
            "Enter the destination (From MAP): \n",
            "LALBAGH\n",
            "Enter your choice\n",
            "How do you want to go?\n",
            "1.own Transport-Car,Motorcycle\n",
            "2.public Transport-Bus\n",
            "2\n",
            "Choose your priority\n",
            "1.Travel in Shortest time path\n",
            "2.Travel in Cheapest Price path\n",
            "1\n",
            "your path from souce to destination is\n",
            "KOTTARA  --- SERVICE -----> URWA  --- SERVICE -----> CHILLIMBI  --- SERVICE -----> LADYHILL  --- SERVICE -----> LALBAGH \n",
            "Time taken:  6.75 minutes\n"
          ]
        }
      ]
    }
  ]
}